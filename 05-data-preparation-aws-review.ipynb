{
 "cells": [
  {
   "cell_type": "markdown",
   "metadata": {},
   "source": [
    "### MovieLens Dataset"
   ]
  },
  {
   "cell_type": "code",
   "execution_count": 1,
   "metadata": {
    "scrolled": true
   },
   "outputs": [
    {
     "name": "stdout",
     "output_type": "stream",
     "text": [
      "download: s3://sagemaker-iris-yianc/athena-result/Unsaved/2020/12/11/6d64a6a3-e55a-4b92-866d-5addc9a4fc40.csv to ./user-item.csv\n",
      "download: s3://sagemaker-iris-yianc/athena-result/Unsaved/2020/12/11/e943298e-2a66-4a4f-8865-6531610caa91.csv to ./product.csv\n"
     ]
    }
   ],
   "source": [
    "!aws s3 cp s3://sagemaker-iris-yianc/athena-result/Unsaved/2020/12/11/6d64a6a3-e55a-4b92-866d-5addc9a4fc40.csv user-item.csv\n",
    "!aws s3 cp s3://sagemaker-iris-yianc/athena-result/Unsaved/2020/12/11/e943298e-2a66-4a4f-8865-6531610caa91.csv product.csv\n",
    "\n"
   ]
  },
  {
   "cell_type": "code",
   "execution_count": 2,
   "metadata": {},
   "outputs": [
    {
     "data": {
      "text/html": [
       "<div>\n",
       "<style scoped>\n",
       "    .dataframe tbody tr th:only-of-type {\n",
       "        vertical-align: middle;\n",
       "    }\n",
       "\n",
       "    .dataframe tbody tr th {\n",
       "        vertical-align: top;\n",
       "    }\n",
       "\n",
       "    .dataframe thead th {\n",
       "        text-align: right;\n",
       "    }\n",
       "</style>\n",
       "<table border=\"1\" class=\"dataframe\">\n",
       "  <thead>\n",
       "    <tr style=\"text-align: right;\">\n",
       "      <th></th>\n",
       "      <th>product_id</th>\n",
       "      <th>product_category</th>\n",
       "      <th>customer_id</th>\n",
       "      <th>star_rating</th>\n",
       "    </tr>\n",
       "  </thead>\n",
       "  <tbody>\n",
       "    <tr>\n",
       "      <th>0</th>\n",
       "      <td>B002CHXIAS</td>\n",
       "      <td>Shoes</td>\n",
       "      <td>3084118</td>\n",
       "      <td>5</td>\n",
       "    </tr>\n",
       "    <tr>\n",
       "      <th>1</th>\n",
       "      <td>B00H6CWE18</td>\n",
       "      <td>Shoes</td>\n",
       "      <td>3084118</td>\n",
       "      <td>5</td>\n",
       "    </tr>\n",
       "    <tr>\n",
       "      <th>2</th>\n",
       "      <td>B007JSGR9Y</td>\n",
       "      <td>Automotive</td>\n",
       "      <td>3084118</td>\n",
       "      <td>4</td>\n",
       "    </tr>\n",
       "    <tr>\n",
       "      <th>3</th>\n",
       "      <td>B00EKDDY88</td>\n",
       "      <td>Wireless</td>\n",
       "      <td>3084118</td>\n",
       "      <td>5</td>\n",
       "    </tr>\n",
       "    <tr>\n",
       "      <th>4</th>\n",
       "      <td>B0078XGE3Y</td>\n",
       "      <td>Wireless</td>\n",
       "      <td>3084118</td>\n",
       "      <td>5</td>\n",
       "    </tr>\n",
       "  </tbody>\n",
       "</table>\n",
       "</div>"
      ],
      "text/plain": [
       "   product_id product_category  customer_id  star_rating\n",
       "0  B002CHXIAS            Shoes      3084118            5\n",
       "1  B00H6CWE18            Shoes      3084118            5\n",
       "2  B007JSGR9Y       Automotive      3084118            4\n",
       "3  B00EKDDY88         Wireless      3084118            5\n",
       "4  B0078XGE3Y         Wireless      3084118            5"
      ]
     },
     "execution_count": 2,
     "metadata": {},
     "output_type": "execute_result"
    }
   ],
   "source": [
    "import pandas as pd \n",
    "user_item = './user-item.csv'\n",
    "item_path = './product.csv'\n",
    "\n",
    "\n",
    "\n",
    "ui_df = pd.read_csv(user_item, nrows=1000000)\n",
    "ui_df.head()"
   ]
  },
  {
   "cell_type": "code",
   "execution_count": 3,
   "metadata": {},
   "outputs": [
    {
     "data": {
      "text/html": [
       "<div>\n",
       "<style scoped>\n",
       "    .dataframe tbody tr th:only-of-type {\n",
       "        vertical-align: middle;\n",
       "    }\n",
       "\n",
       "    .dataframe tbody tr th {\n",
       "        vertical-align: top;\n",
       "    }\n",
       "\n",
       "    .dataframe thead th {\n",
       "        text-align: right;\n",
       "    }\n",
       "</style>\n",
       "<table border=\"1\" class=\"dataframe\">\n",
       "  <thead>\n",
       "    <tr style=\"text-align: right;\">\n",
       "      <th></th>\n",
       "      <th>product_id</th>\n",
       "      <th>product_category</th>\n",
       "      <th>product_title</th>\n",
       "    </tr>\n",
       "  </thead>\n",
       "  <tbody>\n",
       "    <tr>\n",
       "      <th>0</th>\n",
       "      <td>B0059LGBI0</td>\n",
       "      <td>PC</td>\n",
       "      <td>Sony PlayStation (PS) Vita Screen Protector [M...</td>\n",
       "    </tr>\n",
       "    <tr>\n",
       "      <th>1</th>\n",
       "      <td>B000CO7WPK</td>\n",
       "      <td>Automotive</td>\n",
       "      <td>KYB 344055 Excel-G Gas Shock</td>\n",
       "    </tr>\n",
       "    <tr>\n",
       "      <th>2</th>\n",
       "      <td>B00OQ01W9I</td>\n",
       "      <td>Wireless</td>\n",
       "      <td>Ravpower Customer Care</td>\n",
       "    </tr>\n",
       "    <tr>\n",
       "      <th>3</th>\n",
       "      <td>B00KKEI8ZA</td>\n",
       "      <td>Automotive</td>\n",
       "      <td>KAWELL® 2 Pack 16W LED Work Light ATV 4X4 Off ...</td>\n",
       "    </tr>\n",
       "    <tr>\n",
       "      <th>4</th>\n",
       "      <td>B007KPOZK4</td>\n",
       "      <td>Mobile_Apps</td>\n",
       "      <td>STARDOM: THE A-LIST</td>\n",
       "    </tr>\n",
       "  </tbody>\n",
       "</table>\n",
       "</div>"
      ],
      "text/plain": [
       "   product_id product_category  \\\n",
       "0  B0059LGBI0               PC   \n",
       "1  B000CO7WPK       Automotive   \n",
       "2  B00OQ01W9I         Wireless   \n",
       "3  B00KKEI8ZA       Automotive   \n",
       "4  B007KPOZK4      Mobile_Apps   \n",
       "\n",
       "                                       product_title  \n",
       "0  Sony PlayStation (PS) Vita Screen Protector [M...  \n",
       "1                       KYB 344055 Excel-G Gas Shock  \n",
       "2                             Ravpower Customer Care  \n",
       "3  KAWELL® 2 Pack 16W LED Work Light ATV 4X4 Off ...  \n",
       "4                                STARDOM: THE A-LIST  "
      ]
     },
     "execution_count": 3,
     "metadata": {},
     "output_type": "execute_result"
    }
   ],
   "source": [
    "# item_df = pd.read_csv(item_path, encoding = \"ISO-8859-1\")\n",
    "item_df = pd.read_csv(item_path)\n",
    "item_df.head()"
   ]
  },
  {
   "cell_type": "markdown",
   "metadata": {},
   "source": [
    "### Prepare to insert into Elastic Search"
   ]
  },
  {
   "cell_type": "code",
   "execution_count": 4,
   "metadata": {},
   "outputs": [
    {
     "name": "stdout",
     "output_type": "stream",
     "text": [
      "Requirement already satisfied: requests in /home/ec2-user/anaconda3/envs/python3/lib/python3.6/site-packages (2.22.0)\n",
      "Requirement already satisfied: certifi>=2017.4.17 in /home/ec2-user/anaconda3/envs/python3/lib/python3.6/site-packages (from requests) (2020.6.20)\n",
      "Requirement already satisfied: chardet<3.1.0,>=3.0.2 in /home/ec2-user/anaconda3/envs/python3/lib/python3.6/site-packages (from requests) (3.0.4)\n",
      "Requirement already satisfied: urllib3!=1.25.0,!=1.25.1,<1.26,>=1.21.1 in /home/ec2-user/anaconda3/envs/python3/lib/python3.6/site-packages (from requests) (1.25.10)\n",
      "Requirement already satisfied: idna<2.9,>=2.5 in /home/ec2-user/anaconda3/envs/python3/lib/python3.6/site-packages (from requests) (2.8)\n",
      "\u001b[33mWARNING: You are using pip version 20.0.2; however, version 20.3.1 is available.\n",
      "You should consider upgrading via the '/home/ec2-user/anaconda3/envs/python3/bin/python -m pip install --upgrade pip' command.\u001b[0m\n",
      "Collecting Elasticsearch==7.7.0\n",
      "  Downloading elasticsearch-7.7.0-py2.py3-none-any.whl (99 kB)\n",
      "\u001b[K     |████████████████████████████████| 99 kB 1.8 MB/s  eta 0:00:01\n",
      "\u001b[?25hRequirement already satisfied: certifi in /home/ec2-user/anaconda3/envs/python3/lib/python3.6/site-packages (from Elasticsearch==7.7.0) (2020.6.20)\n",
      "Requirement already satisfied: urllib3>=1.21.1 in /home/ec2-user/anaconda3/envs/python3/lib/python3.6/site-packages (from Elasticsearch==7.7.0) (1.25.10)\n",
      "Installing collected packages: Elasticsearch\n",
      "Successfully installed Elasticsearch-7.7.0\n",
      "\u001b[33mWARNING: You are using pip version 20.0.2; however, version 20.3.1 is available.\n",
      "You should consider upgrading via the '/home/ec2-user/anaconda3/envs/python3/bin/python -m pip install --upgrade pip' command.\u001b[0m\n",
      "Requirement already satisfied: urllib3 in /home/ec2-user/anaconda3/envs/python3/lib/python3.6/site-packages (1.25.10)\n",
      "\u001b[33mWARNING: You are using pip version 20.0.2; however, version 20.3.1 is available.\n",
      "You should consider upgrading via the '/home/ec2-user/anaconda3/envs/python3/bin/python -m pip install --upgrade pip' command.\u001b[0m\n"
     ]
    }
   ],
   "source": [
    "!pip install requests \n",
    "!pip install Elasticsearch==7.7.0 \n",
    "!pip install urllib3"
   ]
  },
  {
   "cell_type": "code",
   "execution_count": 5,
   "metadata": {},
   "outputs": [],
   "source": [
    "master_user=\"master_user\"\n",
    "master_user_password=\"master_user_password\"\n",
    "elastic_search_endpoint=\"elastic_search_endpoint\""
   ]
  },
  {
   "cell_type": "code",
   "execution_count": 6,
   "metadata": {},
   "outputs": [],
   "source": [
    "import boto3\n",
    "import json\n",
    "from elasticsearch import Elasticsearch, RequestsHttpConnection\n",
    "def connectES(esEndPoint):\n",
    "    print ('Connecting to the ES Endpoint {0}'.format(esEndPoint))\n",
    "    try:\n",
    "        esClient = Elasticsearch(\n",
    "        hosts=[{'host': esEndPoint, 'port': 443}],\n",
    "        http_auth=(master_user, master_user_password),\n",
    "        use_ssl=True,\n",
    "        verify_certs=True,\n",
    "        connection_class=RequestsHttpConnection)\n",
    "        return esClient\n",
    "    except Exception as E:\n",
    "        print(\"Unable to connect to {0}\".format(esEndPoint))\n",
    "        print(E)\n",
    "        exit(3)"
   ]
  },
  {
   "cell_type": "code",
   "execution_count": 7,
   "metadata": {},
   "outputs": [
    {
     "name": "stdout",
     "output_type": "stream",
     "text": [
      "Connecting to the ES Endpoint search-amazon-review-demo-6z6ub2pwv5lfhpgvqnyxjb2g6q.us-east-1.es.amazonaws.com\n"
     ]
    }
   ],
   "source": [
    "esClient = connectES(elastic_search_endpoint)"
   ]
  },
  {
   "cell_type": "code",
   "execution_count": 23,
   "metadata": {},
   "outputs": [],
   "source": [
    "indexDoc = {\n",
    "    \"dataRecord\":{\n",
    "    \"iid\": {\"type\":\"text\"},\n",
    "    \"title\": {\"type\":\"text\", \"index\":\"analyzed\"}\n",
    "},\n",
    "\"settings\" : {\n",
    " \"number_of_shards\": 1,\n",
    " \"number_of_replicas\": 0\n",
    " }\n",
    "}"
   ]
  },
  {
   "cell_type": "code",
   "execution_count": 24,
   "metadata": {},
   "outputs": [
    {
     "name": "stdout",
     "output_type": "stream",
     "text": [
      "Index Exists ... False\n",
      "Unable to Create Index movies\n",
      "RequestError(400, 'parse_exception', 'unknown key [dataRecord] for create index')\n"
     ]
    }
   ],
   "source": [
    "def createIndex(esClient):\n",
    "    try:\n",
    "        res = esClient.indices.exists('product')\n",
    "        print(\"Index Exists ... {}\".format(res))\n",
    "        if res is False:\n",
    "            esClient.indices.create('movies', body=indexDoc)\n",
    "        return 1\n",
    "    except Exception as E:\n",
    "        print(\"Unable to Create Index {0}\".format(\"movies\"))\n",
    "        print(E)\n",
    "        exit(4)\n",
    "createIndex(esClient)        "
   ]
  },
  {
   "cell_type": "code",
   "execution_count": 8,
   "metadata": {},
   "outputs": [],
   "source": [
    "def indexDocElement(esClient, response):\n",
    "    try:\n",
    "        retval = esClient.index(index='product', doc_type='product', body=response)\n",
    "    except Exception as E:\n",
    "        print(\"Doc not indexed\")\n",
    "        print(\"Error: \",E)\n",
    "        exit(5)"
   ]
  },
  {
   "cell_type": "code",
   "execution_count": 9,
   "metadata": {},
   "outputs": [],
   "source": [
    "content = {\"iid\": \"1\", \"title\": \"White Balloon, The (1995)\"}\n",
    "indexDocElement(esClient,content)"
   ]
  },
  {
   "cell_type": "code",
   "execution_count": null,
   "metadata": {},
   "outputs": [],
   "source": [
    "item_df = item_df.fillna(\"\")\n",
    "item_arr = item_df.to_dict(orient=\"records\")\n",
    "import json\n",
    "\n",
    "for i, j in enumerate(item_arr):\n",
    "#     print(j)\n",
    "    indexDocElement(esClient,response=j)"
   ]
  },
  {
   "cell_type": "code",
   "execution_count": 18,
   "metadata": {},
   "outputs": [
    {
     "data": {
      "text/plain": [
       "{'took': 163,\n",
       " 'timed_out': False,\n",
       " '_shards': {'total': 5, 'successful': 5, 'skipped': 0, 'failed': 0},\n",
       " 'hits': {'total': {'value': 4, 'relation': 'eq'},\n",
       "  'max_score': 5.9481115,\n",
       "  'hits': [{'_index': 'movies',\n",
       "    '_type': 'movie',\n",
       "    '_id': 'JYmbQXUBGYXIlCpo7g8f',\n",
       "    '_score': 5.9481115,\n",
       "    '_source': {'iid': 389,\n",
       "     'title': 'Black Beauty (1994)',\n",
       "     'release_date': '01-Jan-1994',\n",
       "     'video_release_date': '',\n",
       "     'imdb url': 'http://us.imdb.com/Title?Black+Beauty+(1994/I)',\n",
       "     'unknown': 0,\n",
       "     'Action': 0,\n",
       "     'Adventure': 1,\n",
       "     'Animation': 0,\n",
       "     'Childrens': 1,\n",
       "     'Comedy': 0,\n",
       "     'Crime': 0,\n",
       "     'Documentary': 0,\n",
       "     'Drama': 0,\n",
       "     'Fantasy': 0,\n",
       "     'Film-Noir': 0,\n",
       "     'Horror': 0,\n",
       "     'Musical': 0,\n",
       "     'Mystery': 0,\n",
       "     'Romance': 0,\n",
       "     'Sci-Fi': 0,\n",
       "     'Thriller': 0,\n",
       "     'War': 0,\n",
       "     'Western': 0,\n",
       "     'year': 1994}},\n",
       "   {'_index': 'movies',\n",
       "    '_type': 'movie',\n",
       "    '_id': 'VTWbQXUBE17jUbYW7c0b',\n",
       "    '_score': 5.8836293,\n",
       "    '_source': {'iid': 369,\n",
       "     'title': 'Black Sheep (1996)',\n",
       "     'release_date': '02-Feb-1996',\n",
       "     'video_release_date': '',\n",
       "     'imdb url': 'http://us.imdb.com/M/title-exact?Black%20Sheep%20(1996)',\n",
       "     'unknown': 0,\n",
       "     'Action': 0,\n",
       "     'Adventure': 0,\n",
       "     'Animation': 0,\n",
       "     'Childrens': 0,\n",
       "     'Comedy': 1,\n",
       "     'Crime': 0,\n",
       "     'Documentary': 0,\n",
       "     'Drama': 0,\n",
       "     'Fantasy': 0,\n",
       "     'Film-Noir': 0,\n",
       "     'Horror': 0,\n",
       "     'Musical': 0,\n",
       "     'Mystery': 0,\n",
       "     'Romance': 0,\n",
       "     'Sci-Fi': 0,\n",
       "     'Thriller': 0,\n",
       "     'War': 0,\n",
       "     'Western': 0,\n",
       "     'year': 1996}},\n",
       "   {'_index': 'movies',\n",
       "    '_type': 'movie',\n",
       "    '_id': '-YmbQXUBGYXIlCpo5w5J',\n",
       "    '_score': 5.497488,\n",
       "    '_source': {'iid': 257,\n",
       "     'title': 'Men in Black (1997)',\n",
       "     'release_date': '04-Jul-1997',\n",
       "     'video_release_date': '',\n",
       "     'imdb url': 'http://us.imdb.com/M/title-exact?Men+in+Black+(1997)',\n",
       "     'unknown': 0,\n",
       "     'Action': 1,\n",
       "     'Adventure': 1,\n",
       "     'Animation': 0,\n",
       "     'Childrens': 0,\n",
       "     'Comedy': 1,\n",
       "     'Crime': 0,\n",
       "     'Documentary': 0,\n",
       "     'Drama': 0,\n",
       "     'Fantasy': 0,\n",
       "     'Film-Noir': 0,\n",
       "     'Horror': 0,\n",
       "     'Musical': 0,\n",
       "     'Mystery': 0,\n",
       "     'Romance': 0,\n",
       "     'Sci-Fi': 1,\n",
       "     'Thriller': 0,\n",
       "     'War': 0,\n",
       "     'Western': 0,\n",
       "     'year': 1997}},\n",
       "   {'_index': 'movies',\n",
       "    '_type': 'movie',\n",
       "    '_id': 'XDWbQXUBE17jUbYW7s0s',\n",
       "    '_score': 4.473314,\n",
       "    '_source': {'iid': 390,\n",
       "     'title': 'Fear of a Black Hat (1993)',\n",
       "     'release_date': '01-Jan-1993',\n",
       "     'video_release_date': '',\n",
       "     'imdb url': 'http://us.imdb.com/M/title-exact?Fear%20of%20a%20Black%20Hat%20(1993)',\n",
       "     'unknown': 0,\n",
       "     'Action': 0,\n",
       "     'Adventure': 0,\n",
       "     'Animation': 0,\n",
       "     'Childrens': 0,\n",
       "     'Comedy': 1,\n",
       "     'Crime': 0,\n",
       "     'Documentary': 0,\n",
       "     'Drama': 0,\n",
       "     'Fantasy': 0,\n",
       "     'Film-Noir': 0,\n",
       "     'Horror': 0,\n",
       "     'Musical': 0,\n",
       "     'Mystery': 0,\n",
       "     'Romance': 0,\n",
       "     'Sci-Fi': 0,\n",
       "     'Thriller': 0,\n",
       "     'War': 0,\n",
       "     'Western': 0,\n",
       "     'year': 1993}}]}}"
      ]
     },
     "execution_count": 18,
     "metadata": {},
     "output_type": "execute_result"
    }
   ],
   "source": [
    "import requests\n",
    "r = requests.get('https://{}/movies/movie/_search?q=title:black&size=100'.format(elastic_search_endpoint), auth=(master_user, master_user_password))\n",
    "rjson = r.json()\n",
    "rjson "
   ]
  },
  {
   "cell_type": "markdown",
   "metadata": {},
   "source": [
    "### Save user_item_df and item_df for later usage"
   ]
  },
  {
   "cell_type": "code",
   "execution_count": 19,
   "metadata": {},
   "outputs": [],
   "source": [
    "user_item_df.to_pickle(\"user_item_df.p\")\n",
    "item_df.to_pickle(\"item_df.p\")\n"
   ]
  },
  {
   "cell_type": "code",
   "execution_count": null,
   "metadata": {},
   "outputs": [],
   "source": []
  }
 ],
 "metadata": {
  "kernelspec": {
   "display_name": "conda_python3",
   "language": "python",
   "name": "conda_python3"
  },
  "language_info": {
   "codemirror_mode": {
    "name": "ipython",
    "version": 3
   },
   "file_extension": ".py",
   "mimetype": "text/x-python",
   "name": "python",
   "nbconvert_exporter": "python",
   "pygments_lexer": "ipython3",
   "version": "3.6.10"
  }
 },
 "nbformat": 4,
 "nbformat_minor": 4
}
