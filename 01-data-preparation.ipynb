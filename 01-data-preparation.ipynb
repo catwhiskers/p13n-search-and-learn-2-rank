{
 "cells": [
  {
   "cell_type": "markdown",
   "metadata": {},
   "source": [
    "### MovieLens Dataset"
   ]
  },
  {
   "cell_type": "code",
   "execution_count": null,
   "metadata": {
    "scrolled": true
   },
   "outputs": [],
   "source": [
    "!rm ml-100k.zip\n",
    "!rm -rf ml-100k\n",
    "!wget -O ml-100k.zip http://files.grouplens.org/datasets/movielens/ml-100k.zip\n",
    "!unzip ml-100k.zip"
   ]
  },
  {
   "cell_type": "code",
   "execution_count": null,
   "metadata": {},
   "outputs": [],
   "source": [
    "import pandas as pd \n",
    "user_path = './ml-100k/u.user'\n",
    "item_path = './ml-100k/u.item'\n",
    "user_item = './ml-100k/u.data'\n",
    "\n",
    "user_df = pd.read_csv(user_path, names=['uid','age','gender','occupation','zipcode'],  sep='|')\n",
    "user_df.head()"
   ]
  },
  {
   "cell_type": "code",
   "execution_count": null,
   "metadata": {},
   "outputs": [],
   "source": [
    "genres = ['unknown','Action' , 'Adventure', 'Animation', 'Childrens' , 'Comedy' , 'Crime', \\\n",
    "                                        'Documentary', 'Drama' ,'Fantasy' , 'Film-Noir' , 'Horror' , 'Musical', \\\n",
    "                                        'Mystery', 'Romance', 'Sci-Fi', 'Thriller', 'War', 'Western']\n",
    "\n",
    "\n",
    "item_df = pd.read_csv(item_path, names=['iid','title','release_date','video_release_date', 'imdb url'] + genres,  sep='|', encoding = \"ISO-8859-1\")\n",
    "\n"
   ]
  },
  {
   "cell_type": "code",
   "execution_count": null,
   "metadata": {},
   "outputs": [],
   "source": [
    "user_item_df = pd.read_csv(user_item, names=['iid', 'uid', 'rating', 'timestamp'], sep='\\t')\n",
    "user_item_df = user_item_df.merge(item_df, on=['iid'])\n",
    "user_item_df = user_item_df.merge(user_df, on=['uid'])\n",
    "user_item_df.head() "
   ]
  },
  {
   "cell_type": "markdown",
   "metadata": {},
   "source": [
    "### Observe - Gender v.s. Genre "
   ]
  },
  {
   "cell_type": "code",
   "execution_count": null,
   "metadata": {},
   "outputs": [],
   "source": [
    "import numpy \n",
    "import matplotlib.pyplot as plt\n",
    "import seaborn as sns\n",
    "\n",
    "def plot_heat_map(df, figsize=(10,7)): \n",
    "    df = df.div(df.sum(axis=1), axis=0)     \n",
    "    plt.subplots(figsize=figsize)\n",
    "    sns.heatmap(df)\n",
    "\n",
    "gender = user_item_df[user_item_df['rating']>3][['gender']+genres].groupby(['gender']).sum()\n",
    "plot_heat_map(gender, figsize=(10,2))\n",
    "    "
   ]
  },
  {
   "cell_type": "markdown",
   "metadata": {},
   "source": [
    "### Observe - Occupation v.s. Genre "
   ]
  },
  {
   "cell_type": "code",
   "execution_count": null,
   "metadata": {},
   "outputs": [],
   "source": [
    "occupation = user_item_df[user_item_df['rating']>3][['occupation']+genres].groupby(['occupation']).sum()\n",
    "plot_heat_map(occupation, figsize=(10,7))"
   ]
  },
  {
   "cell_type": "markdown",
   "metadata": {},
   "source": [
    "### Observe - Age v.s. Genre "
   ]
  },
  {
   "cell_type": "code",
   "execution_count": null,
   "metadata": {},
   "outputs": [],
   "source": [
    "user_item_df['age_segment']=user_item_df['age']//10\n",
    "age = user_item_df[user_item_df['rating']>3][['age_segment']+genres].groupby(['age_segment']).sum()\n",
    "plot_heat_map(age, figsize=(10,5))"
   ]
  },
  {
   "cell_type": "code",
   "execution_count": null,
   "metadata": {},
   "outputs": [],
   "source": [
    "import pandas as pd \n",
    "genres = ['unknown','Action' , 'Adventure', 'Animation', 'Childrens' , 'Comedy' , 'Crime', \\\n",
    "                                        'Documentary', 'Drama' ,'Fantasy' , 'Film-Noir' , 'Horror' , 'Musical', \\\n",
    "                                        'Mystery', 'Romance', 'Sci-Fi', 'Thriller', 'War', 'Western']\n",
    "\n",
    "\n",
    "import re \n",
    "item_df = pd.read_csv(item_path, names=['iid','title','release_date','video_release_date', 'imdb url'] + genres,  sep='|', encoding = \"ISO-8859-1\")\n",
    "def get_year(title):\n",
    "    movie_year_p = re.compile('.*\\((\\d+)\\)')\n",
    "    m = re.search(movie_year_p, title)\n",
    "    movie_year = -1\n",
    "    try:\n",
    "        movie_year = int(m.group(1))\n",
    "    except:\n",
    "        pass\n",
    "    return movie_year\n",
    "\n",
    "\n",
    "\n",
    "item_df['year'] = item_df.apply(lambda x: get_year(x['title']), axis=1)\n",
    "\n",
    "item_df.head()\n",
    "\n",
    "\n"
   ]
  },
  {
   "cell_type": "markdown",
   "metadata": {},
   "source": [
    "### Prepare to insert into Elastic Search"
   ]
  },
  {
   "cell_type": "code",
   "execution_count": null,
   "metadata": {},
   "outputs": [],
   "source": [
    "!pip install requests \n",
    "!pip install Elasticsearch \n",
    "!pip install urllib3"
   ]
  },
  {
   "cell_type": "code",
   "execution_count": null,
   "metadata": {},
   "outputs": [],
   "source": [
    "master_user=\"master_user\"\n",
    "master_user_password=\"master_user_password\"\n",
    "elastic_search_endpoint=\"elastic_search_endpoint\""
   ]
  },
  {
   "cell_type": "code",
   "execution_count": null,
   "metadata": {},
   "outputs": [],
   "source": [
    "import boto3\n",
    "import json\n",
    "from elasticsearch import Elasticsearch, RequestsHttpConnection\n",
    "def connectES(esEndPoint):\n",
    "    print ('Connecting to the ES Endpoint {0}'.format(esEndPoint))\n",
    "    try:\n",
    "        esClient = Elasticsearch(\n",
    "        hosts=[{'host': esEndPoint, 'port': 443}],\n",
    "        http_auth=(master_user, master_user_password),\n",
    "        use_ssl=True,\n",
    "        verify_certs=True,\n",
    "        connection_class=RequestsHttpConnection)\n",
    "        return esClient\n",
    "    except Exception as E:\n",
    "        print(\"Unable to connect to {0}\".format(esEndPoint))\n",
    "        print(E)\n",
    "        exit(3)"
   ]
  },
  {
   "cell_type": "code",
   "execution_count": null,
   "metadata": {},
   "outputs": [],
   "source": [
    "esClient = connectES(elastic_search_endpoint)"
   ]
  },
  {
   "cell_type": "code",
   "execution_count": null,
   "metadata": {},
   "outputs": [],
   "source": [
    "indexDoc = {\n",
    "    \"dataRecord\":{\n",
    "    \"iid\": {\"type\":\"integer\"},\n",
    "    \"title\": {\"type\":\"text\", \"index\":\"analyzed\"},\n",
    "    \"release_date\": {\"type\":\"text\", \"index\":False},\n",
    "    \"video_release_date\": {\"type\":\"text\", \"index\":False},\n",
    "    \"imdb url\": {\"type\":\"text\", \"index\":False},\n",
    "    \"unknown\": {\"type\":\"text\", \"index\":False},\n",
    "    \"Action\": {\"type\":\"integer\"},\n",
    "    \"Adventure\": {\"type\":\"integer\"},\n",
    "    \"Animation\": {\"type\":\"integer\"},\n",
    "    \"Childrens\": {\"type\":\"integer\"},\n",
    "    \"Comedy\": {\"type\":\"integer\"},\n",
    "    \"Crime\": {\"type\":\"integer\"},\n",
    "    \"Documentary\": {\"type\":\"integer\"},\n",
    "    \"Drama\": {\"type\":\"integer\"},\n",
    "    \"Fantasy\": {\"type\":\"integer\"},\n",
    "    \"Film-Noir\": {\"type\":\"integer\"},\n",
    "    \"Horror\": {\"type\":\"integer\"},\n",
    "    \"Musical\": {\"type\":\"integer\"},\n",
    "    \"Mystery\": {\"type\":\"integer\"},\n",
    "    \"Romance\": {\"type\":\"integer\"},\n",
    "    \"Sci-Fi\": {\"type\":\"integer\"},\n",
    "    \"Thriller\": {\"type\":\"integer\"},\n",
    "    \"War\": {\"type\":\"integer\"},\n",
    "    \"Western\": {\"type\":\"integer\"},\n",
    "    \"year\": {\"type\":\"integer\"}\n",
    "},\n",
    "\"settings\" : {\n",
    " \"number_of_shards\": 1,\n",
    " \"number_of_replicas\": 0\n",
    " }\n",
    "}"
   ]
  },
  {
   "cell_type": "code",
   "execution_count": null,
   "metadata": {},
   "outputs": [],
   "source": [
    "def createIndex(esClient):\n",
    "    try:\n",
    "        res = esClient.indices.exists('movies')\n",
    "        print(\"Index Exists ... {}\".format(res))\n",
    "        if res is False:\n",
    "            esClient.indices.create('movies', body=indexDoc)\n",
    "        return 1\n",
    "    except Exception as E:\n",
    "        print(\"Unable to Create Index {0}\".format(\"movies\"))\n",
    "        print(E)\n",
    "        exit(4)"
   ]
  },
  {
   "cell_type": "code",
   "execution_count": null,
   "metadata": {},
   "outputs": [],
   "source": [
    "def indexDocElement(esClient, response):\n",
    "    try:\n",
    "        retval = esClient.index(index='movies', doc_type='movie', body=response)\n",
    "    except Exception as E:\n",
    "        print(\"Doc not indexed\")\n",
    "        print(\"Error: \",E)\n",
    "        exit(5)"
   ]
  },
  {
   "cell_type": "code",
   "execution_count": null,
   "metadata": {},
   "outputs": [],
   "source": [
    "content = {\"iid\": 18, \"title\": \"White Balloon, The (1995)\", \"release_date\": \"01-Jan-1995\", \"video_release_date\": \"\", \"imdb url\": \"http://us.imdb.com/M/title-exact?Badkonake%20Sefid%20(1995)\", \"unknown\": 0, \"Action\": 0, \"Adventure\": 0, \"Animation\": 0, \"Childrens\": 0, \"Comedy\": 0, \"Crime\": 0, \"Documentary\": 0, \"Drama\": 1, \"Fantasy\": 0, \"Film-Noir\": 0, \"Horror\": 0, \"Musical\": 0, \"Mystery\": 0, \"Romance\": 0, \"Sci-Fi\": 0, \"Thriller\": 0, \"War\": 0, \"Western\": 0, \"year\": 1995}\n",
    "\n",
    "indexDocElement(esClient,content)"
   ]
  },
  {
   "cell_type": "code",
   "execution_count": null,
   "metadata": {},
   "outputs": [],
   "source": [
    "item_df = item_df.fillna(\"\")\n",
    "item_arr = item_df.to_dict(orient=\"records\")\n",
    "import json \n",
    "for i, j in enumerate(item_arr):\n",
    "    indexDocElement(esClient,response=j)"
   ]
  },
  {
   "cell_type": "code",
   "execution_count": null,
   "metadata": {},
   "outputs": [],
   "source": [
    "import requests\n",
    "r = requests.get('https://{}/movies/movie/_search?q=title:black&size=100'.format(elastic_search_endpoint), auth=(master_user, master_user_password))\n",
    "rjson = r.json()\n",
    "rjson "
   ]
  },
  {
   "cell_type": "markdown",
   "metadata": {},
   "source": [
    "### Save user_item_df and item_df for later usage"
   ]
  },
  {
   "cell_type": "code",
   "execution_count": null,
   "metadata": {},
   "outputs": [],
   "source": [
    "user_item_df.to_pickle(\"user_item_df.p\")\n",
    "item_df.to_pickle(\"item_df.p\")\n"
   ]
  },
  {
   "cell_type": "code",
   "execution_count": null,
   "metadata": {},
   "outputs": [],
   "source": []
  }
 ],
 "metadata": {
  "kernelspec": {
   "display_name": "conda_python3",
   "language": "python",
   "name": "conda_python3"
  },
  "language_info": {
   "codemirror_mode": {
    "name": "ipython",
    "version": 3
   },
   "file_extension": ".py",
   "mimetype": "text/x-python",
   "name": "python",
   "nbconvert_exporter": "python",
   "pygments_lexer": "ipython3",
   "version": "3.6.10"
  }
 },
 "nbformat": 4,
 "nbformat_minor": 4
}
